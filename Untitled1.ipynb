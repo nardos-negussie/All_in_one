{
 "cells": [
  {
   "cell_type": "code",
   "execution_count": 1,
   "metadata": {},
   "outputs": [
    {
     "name": "stderr",
     "output_type": "stream",
     "text": [
      "Using TensorFlow backend.\n"
     ]
    }
   ],
   "source": [
    "from keras import layers\n",
    "from keras.layers import Input, Dense, Activation, ZeroPadding2D, BatchNormalization, Flatten, Conv2D\n",
    "from keras.layers import AveragePooling2D, MaxPooling2D, Dropout, GlobalMaxPooling2D, GlobalAveragePooling2D\n",
    "from keras.layers.advanced_activations import LeakyReLU, PReLU\n",
    "from keras.models import Model\n",
    "from keras.preprocessing import image\n",
    "from keras.utils import layer_utils\n",
    "from keras.utils.data_utils import get_file\n",
    "from keras.applications.imagenet_utils import preprocess_input\n",
    "import pydot\n",
    "from IPython.display import SVG\n",
    "from keras.utils.vis_utils import model_to_dot\n",
    "from keras.utils import plot_model\n",
    "import numpy as np\n",
    "import keras.backend as K\n",
    "K.set_image_data_format('channels_last')\n",
    "import matplotlib.pyplot as plt\n",
    "from matplotlib.pyplot import imshow\n",
    "from keras import layers\n",
    "from keras import models\n",
    "\n",
    "%matplotlib inline"
   ]
  },
  {
   "cell_type": "code",
   "execution_count": 1,
   "metadata": {},
   "outputs": [],
   "source": [
    "def facial_recog_model():\n",
    "    '''\n",
    "    \n",
    "    Returns a keras model with an input shape of shape of (227, 227, 3)\n",
    "    \n",
    "    '''\n",
    "    face_model = models\n",
    "    face_region_shape = (227, 227, 3)\n",
    "    X_input = Input(face_region_shape)\n",
    "    #PReLU activation function - parametric-ReLU activation function\n",
    "    prelu = PReLU(init='zero', weights=None)\n",
    "    \n",
    "    #11x11 conv, 96 filters, stride=4\n",
    "    X = Conv2D(filters=96, kernel_size=(11,11), strides=4, name = 'conv0')(X_input)\n",
    "    X = BatchNormalization(axis=3, name = 'bn0')(X)\n",
    "    X = Activation(prelu)(X)\n",
    "    X = MaxPooling2D(strides=2, padding='same',name = 'mp0')(X)\n",
    "    \n",
    "    #5x5 conv, 256 filters, stride=2\n",
    "    X = Conv2D(filters=256, kernel_size=(5,5), strides=2, name = 'conv1')(X)\n",
    "    X = BatchNormalization(axis=3, name = 'bn1')(X)\n",
    "    X = Activation(prelu)\n",
    "    X = MaxPooling2D(strides=2, name = 'mp1')(X)\n",
    "    \n",
    "    #3x3 conv, 384 filters\n",
    "    X = Conv2D(filters=384, kernel_size=(3,3), name = 'conv2')(X)\n",
    "    X = Activation(prelu)(X)\n",
    "    \n",
    "    #3x3 conv, 384 filters\n",
    "    X = Conv2D(filters=384, kernel_size=(3,3), name = 'conv3')(X)\n",
    "    X = Activation(prelu)(X)\n",
    "    \n",
    "    #3x3 conv, 512 filters\n",
    "    X = Conv2D(filters=512, kernel_size=(3,3), name = 'conv4')(X)\n",
    "    X = Activation(prelu)(X)\n",
    "    \n",
    "    #3x3 conv, 512 filters\n",
    "    X = Conv2D(filters=512, kernel_size=(3,3), name = 'conv5')(X)\n",
    "    X = Activation(prelu)(X)\n",
    "    \n",
    "    #3x3 conv, 512 filters\n",
    "    X = Conv2D(filters=512, kernel_size=(3,3), name = 'conv6')(X)\n",
    "    X = MaxPooling2D(strides=2, name = 'mp2')(X)\n",
    "    X = Activation(prelu)(X)\n",
    "    \n",
    "    #fully-connected layer - 1024 units\n",
    "    X = Flatten()(X)\n",
    "    X = Dense(units=1024, activation=prelu, name = 'fc0')(X)\n",
    "    #fully-connected layer - 512 units \n",
    "    X = Dense(units=512, activation=prelu, name = 'fc1')(X)\n",
    "    #fully-connected layer - 10548 units\n",
    "    X = Dense(units=10548, activation='softmax', name = 'fc2')(X)\n",
    "    \n",
    "    #create the model\n",
    "    face_recog_model = Model(inputs=X_input, outputs=X, name='Face_recog_model')\n",
    "    \n",
    "    return facial_recog_model"
   ]
  },
  {
   "cell_type": "code",
   "execution_count": null,
   "metadata": {},
   "outputs": [],
   "source": []
  },
  {
   "cell_type": "code",
   "execution_count": null,
   "metadata": {},
   "outputs": [],
   "source": []
  }
 ],
 "metadata": {
  "kernelspec": {
   "display_name": "Python 3",
   "language": "python",
   "name": "python3"
  },
  "language_info": {
   "codemirror_mode": {
    "name": "ipython",
    "version": 3
   },
   "file_extension": ".py",
   "mimetype": "text/x-python",
   "name": "python",
   "nbconvert_exporter": "python",
   "pygments_lexer": "ipython3",
   "version": "3.6.5"
  }
 },
 "nbformat": 4,
 "nbformat_minor": 2
}
