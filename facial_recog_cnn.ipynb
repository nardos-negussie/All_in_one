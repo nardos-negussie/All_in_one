{
 "cells": [
  {
   "cell_type": "code",
   "execution_count": 29,
   "metadata": {},
   "outputs": [
    {
     "name": "stdout",
     "output_type": "stream",
     "text": [
      "Keras version:  2.1.6\n",
      "Tensorflow version:  1.8.0\n"
     ]
    }
   ],
   "source": [
    "import keras\n",
    "from keras.layers import Input, Dense, Activation, ZeroPadding2D, BatchNormalization, Flatten, Conv2D\n",
    "from keras.layers import AveragePooling2D, MaxPooling2D, Dropout, GlobalMaxPooling2D, GlobalAveragePooling2D, concatenate\n",
    "from keras.layers.advanced_activations import LeakyReLU, PReLU\n",
    "from keras.models import Model\n",
    "import numpy as np\n",
    "import keras.backend as K\n",
    "K.set_image_data_format('channels_last')\n",
    "import matplotlib.pyplot as plt\n",
    "from matplotlib.pyplot import imshow\n",
    "import tensorflow as tf\n",
    "\n",
    "#keras: v2.1.6 --- tf: v1.8.0\n",
    "print('Keras version: ', keras.__version__)\n",
    "print('Tensorflow version: ', tf.__version__)\n",
    "%matplotlib inline"
   ]
  },
  {
   "cell_type": "code",
   "execution_count": 30,
   "metadata": {},
   "outputs": [],
   "source": [
    "def facial_recognition_model(dim):\n",
    "    '''\n",
    "    Facial recognition section of the all in one architecture based on the triplet\n",
    "    probability embeddings paper architecture.  \n",
    "    Takes in a 227, 227, 3 aligned facial images (alignment is based on the Hyperface paper)\n",
    "    \n",
    "    returns a facial recognition model which outputs a face desciptor of dimension 10548\n",
    "    '''\n",
    "    \n",
    "    face_input_shape = (dim, dim, 3)\n",
    "    facial_image_input = Input(face_input_shape)\n",
    "    \n",
    "    \n",
    "    ### \n",
    "    # The top three convolutional layers (conv1-conv3) \n",
    "    # are initialized with the weights from the AlexNet model\n",
    "    # trained on the ImageNet challenge dataset.\n",
    "    ###\n",
    "    \n",
    "    #11x11 conv, 96 filters, stride=4\n",
    "    facial_recognition = Conv2D(filters=96, kernel_size=(11,11), strides=(4,4),name = 'face_recognition_conv1')(facial_image_input)\n",
    "    facial_recognition = BatchNormalization(axis=3, name = 'face_recognition_bn1')(facial_recognition)\n",
    "    facial_recognition = Activation(PReLU())(facial_recognition)\n",
    "    facial_recognition = MaxPooling2D(pool_size=(3,3), strides=(2,2), name = 'face_recognition_mp1')(facial_recognition)\n",
    "\n",
    "    #5x5 conv, 256 filters, stride=2\n",
    "    facial_recognition = Conv2D(filters=256, kernel_size=(5,5), strides=(2,2), name = 'face_recognition_conv2')(facial_recognition)\n",
    "    facial_recognition = BatchNormalization(axis=3, name = 'face_recognition_bn2')(facial_recognition)\n",
    "    facial_recognition = Activation(PReLU())(facial_recognition)\n",
    "    facial_recognition = MaxPooling2D(pool_size=(3,3), strides=(2,2), name = 'face_recognition_mp2')(facial_recognition)\n",
    "    \n",
    "    #3x3 conv, 384 filters\n",
    "    facial_recognition = Conv2D(filters=384, kernel_size=(3,3), padding='same',name = 'face_recognition_conv3')(facial_recognition)\n",
    "    facial_recognition = Activation(PReLU())(facial_recognition)\n",
    "    \n",
    "    ## The layers conv4-conv7 do not downsample \n",
    "    #  the input thereby learning more complex\n",
    "    ## higher dimensional representations.\n",
    "    \n",
    "    ##3x3 conv, 384 filters\n",
    "    facial_recognition = Conv2D(filters=384, kernel_size=(3,3), padding='same',name = 'face_recognition_conv4')(facial_recognition)\n",
    "    facial_recognition = Activation(PReLU())(facial_recognition)\n",
    "\n",
    "    #3x3 conv, 512 filters\n",
    "    facial_recognition = Conv2D(filters=512, kernel_size=(3,3), padding='same',name = 'face_recognition_conv5')(facial_recognition)\n",
    "    facial_recognition = Activation(PReLU())(facial_recognition)\n",
    "\n",
    "    #3x3 conv, 512 filters\n",
    "    facial_recognition = Conv2D(filters=512, kernel_size=(3,3), padding='same', name = 'face_recognition_conv6')(facial_recognition)\n",
    "    facial_recognition = Activation(PReLU())(facial_recognition)\n",
    "\n",
    "    #3x3 conv, 512 filters\n",
    "    facial_recognition = Conv2D(filters=512, kernel_size=(3,3), padding='same',name = 'face_recognition_conv7')(facial_recognition)\n",
    "    facial_recognition = MaxPooling2D(pool_size=(3,3), strides=(2,2), name = 'face_recognition_mp7')(facial_recognition)\n",
    "    facial_recognition = Activation(PReLU())(facial_recognition)\n",
    "    \n",
    "    ###\n",
    "    # Since the network is used as a feature extractor, the last\n",
    "    # layer fc8 is removed during deployment\n",
    "    ###\n",
    "    \n",
    "    #fully-connected layer - 1024 units\n",
    "    facial_recognition = Flatten()(facial_recognition)\n",
    "    facial_recognition = Dropout(.5)(facial_recognition)\n",
    "    facial_recognition = Dense(units=1024, activation=PReLU(), name = 'face_recognition_fc1')(facial_recognition)\n",
    "\n",
    "    #fully-connected layer - 512 units \n",
    "    facial_recognition = Dense(units=512, activation=PReLU(), name = 'face_recognition_fc2')(facial_recognition)\n",
    "\n",
    "    #fully-connected layer - 10548 units\n",
    "    facial_recognition = Dense(units=10548, activation='softmax', name = 'face_recognition_fc3')(facial_recognition)\n",
    "\n",
    "    facial_recog_model = Model(inputs= facial_image_input, outputs = facial_recognition, name = 'All_in_one_model')\n",
    "    \n",
    "    return facial_recog_model"
   ]
  },
  {
   "cell_type": "code",
   "execution_count": 31,
   "metadata": {},
   "outputs": [
    {
     "name": "stderr",
     "output_type": "stream",
     "text": [
      "/home/nardos/anaconda3/envs/tf-gpu/lib/python3.6/site-packages/keras/activations.py:115: UserWarning: Do not pass a layer instance (such as PReLU) as the activation argument of another layer. Instead, advanced activation layers should be used just like any other layer in a model.\n",
      "  identifier=identifier.__class__.__name__))\n"
     ]
    }
   ],
   "source": [
    "face_recog = facial_recognition_model(227)"
   ]
  },
  {
   "cell_type": "code",
   "execution_count": 32,
   "metadata": {},
   "outputs": [
    {
     "name": "stdout",
     "output_type": "stream",
     "text": [
      "_________________________________________________________________\n",
      "Layer (type)                 Output Shape              Param #   \n",
      "=================================================================\n",
      "input_8 (InputLayer)         (None, 227, 227, 3)       0         \n",
      "_________________________________________________________________\n",
      "face_recognition_conv1 (Conv (None, 55, 55, 96)        34944     \n",
      "_________________________________________________________________\n",
      "face_recognition_bn1 (BatchN (None, 55, 55, 96)        384       \n",
      "_________________________________________________________________\n",
      "activation_50 (Activation)   (None, 55, 55, 96)        0         \n",
      "_________________________________________________________________\n",
      "face_recognition_mp1 (MaxPoo (None, 27, 27, 96)        0         \n",
      "_________________________________________________________________\n",
      "face_recognition_conv2 (Conv (None, 12, 12, 256)       614656    \n",
      "_________________________________________________________________\n",
      "face_recognition_bn2 (BatchN (None, 12, 12, 256)       1024      \n",
      "_________________________________________________________________\n",
      "activation_51 (Activation)   (None, 12, 12, 256)       0         \n",
      "_________________________________________________________________\n",
      "face_recognition_mp2 (MaxPoo (None, 5, 5, 256)         0         \n",
      "_________________________________________________________________\n",
      "face_recognition_conv3 (Conv (None, 5, 5, 384)         885120    \n",
      "_________________________________________________________________\n",
      "activation_52 (Activation)   (None, 5, 5, 384)         0         \n",
      "_________________________________________________________________\n",
      "face_recognition_conv4 (Conv (None, 5, 5, 384)         1327488   \n",
      "_________________________________________________________________\n",
      "activation_53 (Activation)   (None, 5, 5, 384)         0         \n",
      "_________________________________________________________________\n",
      "face_recognition_conv5 (Conv (None, 5, 5, 512)         1769984   \n",
      "_________________________________________________________________\n",
      "activation_54 (Activation)   (None, 5, 5, 512)         0         \n",
      "_________________________________________________________________\n",
      "face_recognition_conv6 (Conv (None, 5, 5, 512)         2359808   \n",
      "_________________________________________________________________\n",
      "activation_55 (Activation)   (None, 5, 5, 512)         0         \n",
      "_________________________________________________________________\n",
      "face_recognition_conv7 (Conv (None, 5, 5, 512)         2359808   \n",
      "_________________________________________________________________\n",
      "face_recognition_mp7 (MaxPoo (None, 2, 2, 512)         0         \n",
      "_________________________________________________________________\n",
      "activation_56 (Activation)   (None, 2, 2, 512)         0         \n",
      "_________________________________________________________________\n",
      "flatten_8 (Flatten)          (None, 2048)              0         \n",
      "_________________________________________________________________\n",
      "dropout_4 (Dropout)          (None, 2048)              0         \n",
      "_________________________________________________________________\n",
      "face_recognition_fc1 (Dense) (None, 1024)              2098176   \n",
      "_________________________________________________________________\n",
      "face_recognition_fc2 (Dense) (None, 512)               524800    \n",
      "_________________________________________________________________\n",
      "face_recognition_fc3 (Dense) (None, 10548)             5411124   \n",
      "=================================================================\n",
      "Total params: 17,387,316\n",
      "Trainable params: 17,386,612\n",
      "Non-trainable params: 704\n",
      "_________________________________________________________________\n"
     ]
    }
   ],
   "source": [
    "face_recog.summary()"
   ]
  },
  {
   "cell_type": "code",
   "execution_count": null,
   "metadata": {},
   "outputs": [],
   "source": []
  }
 ],
 "metadata": {
  "kernelspec": {
   "display_name": "Python 3",
   "language": "python",
   "name": "python3"
  },
  "language_info": {
   "codemirror_mode": {
    "name": "ipython",
    "version": 3
   },
   "file_extension": ".py",
   "mimetype": "text/x-python",
   "name": "python",
   "nbconvert_exporter": "python",
   "pygments_lexer": "ipython3",
   "version": "3.6.5"
  }
 },
 "nbformat": 4,
 "nbformat_minor": 2
}
