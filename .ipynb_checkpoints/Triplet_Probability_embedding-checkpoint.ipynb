{
 "cells": [
  {
   "cell_type": "code",
   "execution_count": 1,
   "metadata": {},
   "outputs": [
    {
     "name": "stderr",
     "output_type": "stream",
     "text": [
      "Using TensorFlow backend.\n"
     ]
    }
   ],
   "source": [
    "from keras.layers import Dense, Lambda, Input, merge\n",
    "from keras.models import Model, Sequential\n",
    "from keras.optimizers import SGD\n",
    "import keras.backend as K\n",
    "import numpy as np\n",
    "\n",
    "\n",
    "def triplet_loss(y_true, y_pred):\n",
    "    return -K.mean(K.log(K.sigmoid(y_pred)))\n",
    "\n",
    "\n",
    "def triplet_merge(inputs):\n",
    "    a, p, n = inputs\n",
    "\n",
    "    return K.sum(a * (p - n), axis=1)\n",
    "\n",
    "\n",
    "def triplet_merge_shape(input_shapes):\n",
    "    return (input_shapes[0][0], 1)"
   ]
  }
 ],
 "metadata": {
  "kernelspec": {
   "display_name": "Python 3",
   "language": "python",
   "name": "python3"
  },
  "language_info": {
   "codemirror_mode": {
    "name": "ipython",
    "version": 3
   },
   "file_extension": ".py",
   "mimetype": "text/x-python",
   "name": "python",
   "nbconvert_exporter": "python",
   "pygments_lexer": "ipython3",
   "version": "3.6.5"
  }
 },
 "nbformat": 4,
 "nbformat_minor": 2
}
