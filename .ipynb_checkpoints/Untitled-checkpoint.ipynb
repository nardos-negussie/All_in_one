{
 "cells": [
  {
   "cell_type": "code",
   "execution_count": 1,
   "metadata": {},
   "outputs": [
    {
     "name": "stderr",
     "output_type": "stream",
     "text": [
      "Using TensorFlow backend.\n"
     ]
    }
   ],
   "source": [
    "from keras import layers\n",
    "from keras.layers import Input, Dense, Activation, ZeroPadding2D, BatchNormalization, Flatten, Conv2D\n",
    "from keras.layers import AveragePooling2D, MaxPooling2D, Dropout, GlobalMaxPooling2D, GlobalAveragePooling2D\n",
    "from keras.layers.advanced_activations import LeakyReLU, PReLU\n",
    "from keras.models import Model\n",
    "from keras.preprocessing import image\n",
    "from keras.utils import layer_utils\n",
    "from keras.utils.data_utils import get_file\n",
    "from keras.applications.imagenet_utils import preprocess_input\n",
    "import pydot\n",
    "from IPython.display import SVG\n",
    "from keras.utils.vis_utils import model_to_dot\n",
    "from keras.utils import plot_model\n",
    "import numpy as np\n",
    "import keras.backend as K\n",
    "K.set_image_data_format('channels_last')\n",
    "import matplotlib.pyplot as plt\n",
    "from matplotlib.pyplot import imshow\n",
    "\n",
    "%matplotlib inline"
   ]
  },
  {
   "cell_type": "code",
   "execution_count": 90,
   "metadata": {},
   "outputs": [],
   "source": [
    "def facial_recog_model():\n",
    "    '''\n",
    "    \n",
    "    Returns a keras model with an input shape of shape of (227, 227, 3)\n",
    "    \n",
    "    '''\n",
    "    \n",
    "    face_region_shape = (227, 227, 3)\n",
    "    X_input = Input(face_region_shape)\n",
    "    #PReLU activation function - parametric-ReLU activation function\n",
    "#     prelu = PReLU(init='zero', weights=None)\n",
    "    \n",
    "    #11x11 conv, 96 filters, stride=4\n",
    "    X = Conv2D(filters=96, kernel_size=(11,11), strides=(4,4), name = 'conv0')(X_input)\n",
    "    X = BatchNormalization(axis=3, name = 'bn0')(X)\n",
    "    X = Activation('relu')(X)\n",
    "    X = MaxPooling2D(strides=(2,2), name = 'mp0')(X)\n",
    "    #out=55,55,96\n",
    "    #5x5 conv, 256 filters, stride=2\n",
    "    X = Conv2D(filters=256, kernel_size=(5,5), strides=(2,2), name = 'conv1')(X)\n",
    "    X = BatchNormalization(axis=3, name = 'bn1')(X)\n",
    "    X = Activation('relu')(X)\n",
    "    X = MaxPooling2D(strides=(2,2), name = 'mp1')(X)\n",
    "    #out=6,6,256\n",
    "    \n",
    "    #3x3 conv, 384 filters\n",
    "    X = Conv2D(filters=384, kernel_size=(3,3), padding='same',name = 'conv2')(X)\n",
    "    X = Activation('relu')(X)\n",
    "    \n",
    "#     #out=24,24,384\n",
    "#     #3x3 conv, 384 filters\n",
    "    X = Conv2D(filters=384, kernel_size=(3,3), padding='same',name = 'conv3')(X)\n",
    "    X = Activation('relu')(X)\n",
    "    \n",
    "    #out=22,22,384\n",
    "    #3x3 conv, 512 filters\n",
    "    X = Conv2D(filters=512, kernel_size=(3,3),name = 'conv4')(X)\n",
    "    X = Activation('relu')(X)\n",
    "    \n",
    "    #3x3 conv, 512 filters\n",
    "    X = Conv2D(filters=512, kernel_size=(3,3), padding='same', name = 'conv5')(X)\n",
    "    X = Activation('relu')(X)\n",
    "    \n",
    "    #3x3 conv, 512 filters\n",
    "    X = Conv2D(filters=512, kernel_size=(3,3), padding='same',name = 'conv6')(X)\n",
    "    X = MaxPooling2D(strides=(2,2), name = 'mp2')(X)\n",
    "    X = Activation('relu')(X)\n",
    "    \n",
    "    #fully-connected layer - 1024 units\n",
    "    X = Flatten()(X)\n",
    "    X = Dense(units=1024, activation='relu', name = 'fc0')(X)\n",
    "    #fully-connected layer - 512 units \n",
    "    X = Dense(units=512, activation=\"relu\", name = 'fc1')(X)\n",
    "    #fully-connected layer - 10548 units\n",
    "    X = Dense(units=10548, activation='softmax', name = 'fc2')(X)\n",
    "    \n",
    "# #     #create the model\n",
    "    face_recog_model = Model(inputs=X_input, outputs=X, name='Face_recog_model')\n",
    "    \n",
    "    return face_recog_model\n",
    "    "
   ]
  },
  {
   "cell_type": "code",
   "execution_count": 91,
   "metadata": {
    "scrolled": false
   },
   "outputs": [],
   "source": [
    "face_recog_modelll = facial_recog_model()"
   ]
  },
  {
   "cell_type": "code",
   "execution_count": 92,
   "metadata": {},
   "outputs": [
    {
     "name": "stdout",
     "output_type": "stream",
     "text": [
      "_________________________________________________________________\n",
      "Layer (type)                 Output Shape              Param #   \n",
      "=================================================================\n",
      "input_32 (InputLayer)        (None, 227, 227, 3)       0         \n",
      "_________________________________________________________________\n",
      "conv0 (Conv2D)               (None, 55, 55, 96)        34944     \n",
      "_________________________________________________________________\n",
      "bn0 (BatchNormalization)     (None, 55, 55, 96)        384       \n",
      "_________________________________________________________________\n",
      "activation_124 (Activation)  (None, 55, 55, 96)        0         \n",
      "_________________________________________________________________\n",
      "mp0 (MaxPooling2D)           (None, 27, 27, 96)        0         \n",
      "_________________________________________________________________\n",
      "conv1 (Conv2D)               (None, 12, 12, 256)       614656    \n",
      "_________________________________________________________________\n",
      "bn1 (BatchNormalization)     (None, 12, 12, 256)       1024      \n",
      "_________________________________________________________________\n",
      "activation_125 (Activation)  (None, 12, 12, 256)       0         \n",
      "_________________________________________________________________\n",
      "mp1 (MaxPooling2D)           (None, 6, 6, 256)         0         \n",
      "_________________________________________________________________\n",
      "conv2 (Conv2D)               (None, 6, 6, 384)         885120    \n",
      "_________________________________________________________________\n",
      "activation_126 (Activation)  (None, 6, 6, 384)         0         \n",
      "_________________________________________________________________\n",
      "conv3 (Conv2D)               (None, 6, 6, 384)         1327488   \n",
      "_________________________________________________________________\n",
      "activation_127 (Activation)  (None, 6, 6, 384)         0         \n",
      "_________________________________________________________________\n",
      "conv4 (Conv2D)               (None, 4, 4, 512)         1769984   \n",
      "_________________________________________________________________\n",
      "activation_128 (Activation)  (None, 4, 4, 512)         0         \n",
      "_________________________________________________________________\n",
      "conv5 (Conv2D)               (None, 4, 4, 512)         2359808   \n",
      "_________________________________________________________________\n",
      "activation_129 (Activation)  (None, 4, 4, 512)         0         \n",
      "_________________________________________________________________\n",
      "conv6 (Conv2D)               (None, 4, 4, 512)         2359808   \n",
      "_________________________________________________________________\n",
      "mp2 (MaxPooling2D)           (None, 2, 2, 512)         0         \n",
      "_________________________________________________________________\n",
      "activation_130 (Activation)  (None, 2, 2, 512)         0         \n",
      "_________________________________________________________________\n",
      "flatten_9 (Flatten)          (None, 2048)              0         \n",
      "_________________________________________________________________\n",
      "fc0 (Dense)                  (None, 1024)              2098176   \n",
      "_________________________________________________________________\n",
      "fc1 (Dense)                  (None, 512)               524800    \n",
      "_________________________________________________________________\n",
      "fc2 (Dense)                  (None, 10548)             5411124   \n",
      "=================================================================\n",
      "Total params: 17,387,316\n",
      "Trainable params: 17,386,612\n",
      "Non-trainable params: 704\n",
      "_________________________________________________________________\n"
     ]
    }
   ],
   "source": [
    "face_recog_modelll.summary()"
   ]
  },
  {
   "cell_type": "code",
   "execution_count": null,
   "metadata": {},
   "outputs": [],
   "source": []
  },
  {
   "cell_type": "code",
   "execution_count": null,
   "metadata": {},
   "outputs": [],
   "source": []
  }
 ],
 "metadata": {
  "kernelspec": {
   "display_name": "Python 3",
   "language": "python",
   "name": "python3"
  },
  "language_info": {
   "codemirror_mode": {
    "name": "ipython",
    "version": 3
   },
   "file_extension": ".py",
   "mimetype": "text/x-python",
   "name": "python",
   "nbconvert_exporter": "python",
   "pygments_lexer": "ipython3",
   "version": "3.6.5"
  }
 },
 "nbformat": 4,
 "nbformat_minor": 2
}
