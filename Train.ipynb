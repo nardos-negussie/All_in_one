{
 "cells": [
  {
   "cell_type": "code",
   "execution_count": null,
   "metadata": {},
   "outputs": [],
   "source": [
    "import os.path\n",
    "import numpy as np\n",
    "from keras.callbacks import ModelCheckpoint\n",
    "from keras.preprocessing.image import ImageDataGenerator\n",
    "from sklearn.preprocessing import OneHotEncoder\n",
    "from facial_recog_cnn import facial_recognition_model"
   ]
  },
  {
   "cell_type": "code",
   "execution_count": null,
   "metadata": {},
   "outputs": [],
   "source": [
    "WEIGHTS_DIR = './data/weights/'\n",
    "\n",
    "NB_EPOCH = 1024\n",
    "BATCH_SIZE = 32\n",
    "\n",
    "AUGMENTATION = True\n",
    "\n",
    "one_hot = OneHotEncoder()\n",
    "\n",
    "train_x, train_y = np.load('./data/train_x.npy'), np.load('./data/train_y.npy')\n",
    "test_x, test_y = np.load('./data/test_x.npy'), np.load('./data/test_y.npy')\n",
    "\n",
    "n_subjects = len(set(train_y))\n",
    "n_train = train_x.shape[0]\n",
    "n_test = test_x.shape[0]\n",
    "\n",
    "one_hot.fit(train_y.reshape(-1, 1))\n",
    "\n",
    "train_y = one_hot.transform(train_y.reshape(-1, 1)).todense()\n",
    "test_y = one_hot.transform(test_y.reshape(-1, 1)).todense()\n",
    "\n",
    "print('n_train: {}'.format(n_train))\n",
    "print('n_test: {}'.format(n_test))\n",
    "print('n_subjects: {}'.format(n_subjects))\n",
    "\n",
    "mc1 = ModelCheckpoint(WEIGHTS_DIR + 'weights.best.h5', monitor='val_acc', verbose=0, save_best_only=True, mode='max')\n",
    "\n",
    "if AUGMENTATION:\n",
    "    datagen = ImageDataGenerator(\n",
    "        rotation_range=20,\n",
    "        width_shift_range=0.2,\n",
    "        height_shift_range=0.2,\n",
    "        zoom_range=0.1,\n",
    "        horizontal_flip=True)\n",
    "\n",
    "model = build_cnn(227, n_subjects)\n",
    "model.summary()\n",
    "\n",
    "weights_to_load = WEIGHTS_DIR + 'weights.best.h5'\n",
    "\n",
    "if os.path.exists(weights_to_load):\n",
    "    model.load_weights(weights_to_load)\n",
    "\n",
    "try:\n",
    "    if AUGMENTATION:\n",
    "        model.fit_generator(datagen.flow(train_x, train_y, batch_size=BATCH_SIZE),\n",
    "                            samples_per_epoch=train_x.shape[0],\n",
    "                            nb_epoch=NB_EPOCH,\n",
    "                            validation_data=[test_x, test_y],\n",
    "                            callbacks=[mc1])\n",
    "    else:\n",
    "        model.fit(train_x, train_y,\n",
    "                  batch_size=BATCH_SIZE,\n",
    "                  nb_epoch=NB_EPOCH,\n",
    "                  validation_data=[test_x, test_y],\n",
    "                  callbacks=[mc1])\n",
    "finally:\n",
    "    model.save_weights(WEIGHTS_DIR + 'weights.finally.h5')"
   ]
  }
 ],
 "metadata": {
  "kernelspec": {
   "display_name": "Python 3",
   "language": "python",
   "name": "python3"
  },
  "language_info": {
   "codemirror_mode": {
    "name": "ipython",
    "version": 3
   },
   "file_extension": ".py",
   "mimetype": "text/x-python",
   "name": "python",
   "nbconvert_exporter": "python",
   "pygments_lexer": "ipython3",
   "version": "3.6.5"
  }
 },
 "nbformat": 4,
 "nbformat_minor": 2
}
