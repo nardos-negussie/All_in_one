{
 "cells": [
  {
   "cell_type": "code",
   "execution_count": 3,
   "metadata": {},
   "outputs": [],
   "source": [
    "from keras.layers import Dense, Lambda, Input, merge\n",
    "from keras.models import Model, Sequential\n",
    "from keras.optimizers import SGD\n",
    "import keras.backend as K\n",
    "import numpy as np\n",
    "\n",
    "\n",
    "def triplet_loss(y_true, y_pred):\n",
    "    return -K.mean(K.log(K.sigmoid(y_pred)))\n",
    "\n",
    "\n",
    "def triplet_merge(inputs):\n",
    "    a, p, n = inputs\n",
    "\n",
    "    return K.sum(a * (p - n), axis=1)\n",
    "\n",
    "\n",
    "def triplet_merge_shape(input_shapes):\n",
    "    return (input_shapes[0][0], 1)\n",
    "\n",
    "def tpe(n_in, n_out, W_pca=None):\n",
    "    a = Input(shape=(n_in,))\n",
    "    p = Input(shape=(n_in,))\n",
    "    n = Input(shape=(n_in,))\n",
    "\n",
    "    if W_pca is None:\n",
    "        W_pca = np.zeros((n_in, n_out))\n",
    "\n",
    "    base_model = Sequential()\n",
    "    base_model.add(Dense(n_out, input_dim=n_in, bias=False, weights=[W_pca], activation='linear'))\n",
    "    base_model.add(Lambda(lambda x: K.l2_normalize(x, axis=1)))\n",
    "\n",
    "    # base_model = Sequential()\n",
    "    # base_model.add(Dense(178, input_dim=n_in, bias=True, activation='relu'))\n",
    "    # base_model.add(Dense(n_out, bias=True, activation='tanh'))\n",
    "    # base_model.add(Lambda(lambda x: K.l2_normalize(x, axis=1)))\n",
    "\n",
    "    a_emb = base_model(a)\n",
    "    p_emb = base_model(p)\n",
    "    n_emb = base_model(n)\n",
    "\n",
    "    e = merge([a_emb, p_emb, n_emb], mode=triplet_merge, output_shape=triplet_merge_shape)\n",
    "\n",
    "    model = Model(input=[a, p, n], output=e)\n",
    "    predict = Model(input=a, output=a_emb)\n",
    "\n",
    "    model.compile(loss=triplet_loss, optimizer='rmsprop')\n",
    "\n",
    "    return model, predict"
   ]
  }
 ],
 "metadata": {
  "kernelspec": {
   "display_name": "Python 3",
   "language": "python",
   "name": "python3"
  },
  "language_info": {
   "codemirror_mode": {
    "name": "ipython",
    "version": 3
   },
   "file_extension": ".py",
   "mimetype": "text/x-python",
   "name": "python",
   "nbconvert_exporter": "python",
   "pygments_lexer": "ipython3",
   "version": "3.6.5"
  }
 },
 "nbformat": 4,
 "nbformat_minor": 2
}
